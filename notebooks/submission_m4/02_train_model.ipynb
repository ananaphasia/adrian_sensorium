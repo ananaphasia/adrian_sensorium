{
 "cells": [
  {
   "cell_type": "markdown",
   "id": "d0a62a4f-c73f-4dbc-919a-0a971cda89e5",
   "metadata": {},
   "source": [
    "# Train models"
   ]
  },
  {
   "cell_type": "markdown",
   "id": "89a2d59b-af12-4c07-b14f-a89423668edd",
   "metadata": {},
   "source": [
    "For this submission, 5 models were trained with different train/validation splits and different model seeds.\n",
    "\n",
    "To speed up training, the models were trained in parallel on the CSCS infrastructure by calling :\n",
    "\n",
    "cd adrian_sensorium/scripts\n",
    "\n",
    "bash start_jobs.sh jobs_ensemble.txt\n",
    "\n",
    "This script starts 5 machines to run the adrian_sensorium/scripts/train_model.py script with the 5 configuration files in the folder adrian_sensorium/saved_models/config_m4_ens*.yaml\n",
    "\n",
    "To reproduce this fitting, one can also execute the following code (not tested):"
   ]
  },
  {
   "cell_type": "code",
   "execution_count": 1,
   "id": "07d8b76b-fdea-4860-a517-d573d17f6a57",
   "metadata": {},
   "outputs": [
    {
     "name": "stdout",
     "output_type": "stream",
     "text": [
      "Working directory: c:\\Users\\asimo\\Documents\\BCCN\\Lab Rotations\\Petreanu Lab\\adrian_sensorium\n"
     ]
    }
   ],
   "source": [
    "import os\n",
    "if 'notebooks' in os.getcwd():\n",
    "    os.chdir('../..')  # change to main directory\n",
    "print('Working directory:', os.getcwd())"
   ]
  },
  {
   "cell_type": "code",
   "execution_count": 2,
   "id": "c1fd1ad9",
   "metadata": {},
   "outputs": [
    {
     "data": {
      "text/plain": [
       "'c:\\\\Users\\\\asimo\\\\Documents\\\\BCCN\\\\Lab Rotations\\\\Petreanu Lab\\\\adrian_sensorium'"
      ]
     },
     "execution_count": 2,
     "metadata": {},
     "output_type": "execute_result"
    }
   ],
   "source": [
    "os.getcwd()"
   ]
  },
  {
   "cell_type": "code",
   "execution_count": 6,
   "id": "ee3c2c87-a69a-443e-a6e2-017a435da51c",
   "metadata": {},
   "outputs": [
    {
     "name": "stdout",
     "output_type": "stream",
     "text": [
      "Running script train_model.py\n",
      "Working directory: c:\\Users\\asimo\\Documents\\BCCN\\Lab Rotations\\Petreanu Lab\\adrian_sensorium\n",
      "2024-08-28 12:20:32.875362: Loading data for \"config_m4_ens0\"\n"
     ]
    },
    {
     "name": "stderr",
     "output_type": "stream",
     "text": [
      "[2024-08-28 12:20:38,774][ERROR]: Uncaught exception\n",
      "Traceback (most recent call last):\n",
      "  File \"scripts/train_model_copy.py\", line 84, in <module>\n",
      "    model = get_model(model_fn=model_fn,\n",
      "  File \"c:\\Users\\asimo\\.conda\\envs\\molanalysis\\lib\\site-packages\\nnfabrik\\builder.py\", line 69, in get_model\n",
      "    model_fn(dataloaders, seed=seed, **model_config)\n",
      "  File \"c:\\Users\\asimo\\Documents\\BCCN\\Lab Rotations\\Petreanu Lab\\adrian_sensorium\\.\\sensorium\\models\\models.py\", line 181, in modulated_stacked_core_full_gauss_readout\n",
      "    nr_trials = np.load( path_template.format(key) ).shape[0]\n",
      "  File \"c:\\Users\\asimo\\.conda\\envs\\molanalysis\\lib\\site-packages\\numpy\\lib\\npyio.py\", line 405, in load\n",
      "    fid = stack.enter_context(open(os_fspath(file), \"rb\"))\n",
      "FileNotFoundError: [Errno 2] No such file or directory: 'notebooks/data/staticLPE11086-LPE11086_2023_12_16-0-GrayImageNet-94c6ff995dac583098847cfecd43e7b6/merged_data/trial_id.npy'\n"
     ]
    }
   ],
   "source": [
    "!python scripts/train_model_copy.py -m config_m4_ens0\n",
    "# !python scripts/train_model.py -m config_m4_ens1\n",
    "# !python scripts/train_model.py -m config_m4_ens2\n",
    "# !python scripts/train_model.py -m config_m4_ens3\n",
    "# !python scripts/train_model.py -m config_m4_ens4"
   ]
  }
 ],
 "metadata": {
  "kernelspec": {
   "display_name": "molanalysis",
   "language": "python",
   "name": "python3"
  },
  "language_info": {
   "codemirror_mode": {
    "name": "ipython",
    "version": 3
   },
   "file_extension": ".py",
   "mimetype": "text/x-python",
   "name": "python",
   "nbconvert_exporter": "python",
   "pygments_lexer": "ipython3",
   "version": "3.8.19"
  }
 },
 "nbformat": 4,
 "nbformat_minor": 5
}
