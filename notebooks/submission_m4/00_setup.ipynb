{
 "cells": [
  {
   "cell_type": "markdown",
   "id": "198d0650-6caf-4d53-a049-70629cdc8d05",
   "metadata": {},
   "source": [
    "# Setup"
   ]
  },
  {
   "cell_type": "markdown",
   "id": "24a91f3c-909d-4030-a539-7bc41a1b8fd1",
   "metadata": {
    "tags": []
   },
   "source": [
    "### Step 1: Copy .zip files of Sensorium+ competition to notebooks/data"
   ]
  },
  {
   "cell_type": "markdown",
   "id": "38e67e09-890c-4450-a51c-79c82aad8a82",
   "metadata": {},
   "source": [
    "Copy only 6 files. Do not copy zip file for Sensorium competition (26872-17-20)"
   ]
  },
  {
   "cell_type": "markdown",
   "id": "f071ef7a-84af-4132-8865-402cb23167f7",
   "metadata": {},
   "source": [
    "### Step 2: Unzip"
   ]
  },
  {
   "cell_type": "code",
   "execution_count": 1,
   "id": "7322dccd-9bc4-4332-8ca9-06183d10040a",
   "metadata": {},
   "outputs": [
    {
     "name": "stdout",
     "output_type": "stream",
     "text": [
      "Working directory: /scratch/snx3000/bp000429/submission/adrian_sensorium\n"
     ]
    }
   ],
   "source": [
    "import os\n",
    "if 'notebooks' in os.getcwd(): os.chdir('../..')  # change to main directory\n",
    "print('Working directory:', os.getcwd() )"
   ]
  },
  {
   "cell_type": "code",
   "execution_count": 2,
   "id": "b05a9cf0-5f82-491f-86d4-2a07db0b4a35",
   "metadata": {},
   "outputs": [
    {
     "name": "stderr",
     "output_type": "stream",
     "text": [
      "100%|██████████| 6/6 [07:29<00:00, 74.91s/it]\n"
     ]
    }
   ],
   "source": [
    "import glob\n",
    "import zipfile\n",
    "from tqdm import tqdm\n",
    "\n",
    "files = sorted( glob.glob('notebooks/data/*.zip'))\n",
    "data_dir = 'notebooks/data/'\n",
    "\n",
    "for file in tqdm(files):\n",
    "    with zipfile.ZipFile(file,\"r\") as zip_ref:\n",
    "        zip_ref.extractall(data_dir)"
   ]
  },
  {
   "cell_type": "markdown",
   "id": "2f19ef56-01b2-4696-a20f-872815a0f986",
   "metadata": {},
   "source": [
    "### Step 3: Check if modules are installed"
   ]
  },
  {
   "cell_type": "markdown",
   "id": "2f03e53d-aff2-44f0-934e-fc4faf7929c0",
   "metadata": {},
   "source": [
    "Special libraries not already defined in the setup.py are:\n",
    "\n",
    "- ruamel.yaml"
   ]
  },
  {
   "cell_type": "code",
   "execution_count": 3,
   "id": "ffd00f08-b8ff-4adc-8bca-47fc46907525",
   "metadata": {},
   "outputs": [
    {
     "name": "stdout",
     "output_type": "stream",
     "text": [
      "Package                       Version\n",
      "----------------------------- ------------\n",
      "alabaster                     0.7.12\n",
      "appdirs                       1.4.4\n",
      "argon2-cffi                   21.3.0\n",
      "argon2-cffi-bindings          21.2.0\n",
      "asttokens                     2.0.5\n",
      "atomicwrites                  1.4.0\n",
      "attrs                         20.3.0\n",
      "Babel                         2.10.3\n",
      "backcall                      0.2.0\n",
      "beautifulsoup4                4.11.1\n",
      "black                         22.1.0\n",
      "bleach                        5.0.0\n",
      "certifi                       2022.6.15\n",
      "cffi                          1.15.0\n",
      "charset-normalizer            2.1.0\n",
      "click                         8.0.3\n",
      "cloudpickle                   2.0.0\n",
      "commonmark                    0.9.1\n",
      "cryptography                  37.0.2\n",
      "cycler                        0.11.0\n",
      "Cython                        0.29.23\n",
      "dask                          2021.4.0\n",
      "datajoint                     0.13.6\n",
      "debugpy                       1.5.1\n",
      "decorator                     5.1.1\n",
      "defusedxml                    0.7.1\n",
      "docutils                      0.18.1\n",
      "entrypoints                   0.4\n",
      "executing                     0.8.2\n",
      "fastjsonschema                2.15.3\n",
      "Flask                         2.1.2\n",
      "fonttools                     4.28.2\n",
      "fsspec                        0.9.0\n",
      "gitdb                         4.0.9\n",
      "GitPython                     3.1.27\n",
      "h5py                          3.7.0\n",
      "horovod                       0.23.0\n",
      "idna                          3.3\n",
      "imageio                       2.19.3\n",
      "imagesize                     1.4.1\n",
      "importlib-metadata            4.12.0\n",
      "iniconfig                     1.1.1\n",
      "ipykernel                     6.9.0\n",
      "ipylab                        0.6.0\n",
      "ipympl                        0.9.1\n",
      "ipython                       8.0.1\n",
      "ipython-genutils              0.2.0\n",
      "ipywidgets                    7.7.0\n",
      "itsdangerous                  2.1.2\n",
      "jedi                          0.18.1\n",
      "Jinja2                        3.1.2\n",
      "joblib                        1.1.0\n",
      "jsonschema                    4.4.0\n",
      "jupyter-client                7.1.2\n",
      "jupyter-core                  4.9.1\n",
      "jupyter-utils                 0.1\n",
      "jupyterlab-pygments           0.2.2\n",
      "jupyterlab-widgets            1.1.0\n",
      "kiwisolver                    1.3.2\n",
      "lipstick                      0.0.6\n",
      "locket                        0.2.1\n",
      "MarkupSafe                    2.1.1\n",
      "matplotlib                    3.5.0\n",
      "matplotlib-inline             0.1.3\n",
      "minio                         7.1.9\n",
      "mistune                       0.8.4\n",
      "more-itertools                8.7.0\n",
      "mpi4py                        3.0.3\n",
      "mypy-extensions               0.4.3\n",
      "nbclient                      0.6.1\n",
      "nbconvert                     6.5.0\n",
      "nbformat                      5.3.0\n",
      "nest-asyncio                  1.5.4\n",
      "networkx                      2.8.4\n",
      "neuralpredictors              0.3.0\n",
      "nnfabrik                      0.2.1\n",
      "nose                          1.3.7\n",
      "notebook                      6.4.11\n",
      "numpy                         1.22.0\n",
      "opencv-python                 4.5.5.64\n",
      "otumat                        0.3.1\n",
      "packaging                     20.9\n",
      "pandas                        1.2.4\n",
      "pandocfilters                 1.5.0\n",
      "parso                         0.8.3\n",
      "partd                         1.2.0\n",
      "pathspec                      0.9.0\n",
      "pexpect                       4.8.0\n",
      "pickleshare                   0.7.5\n",
      "Pillow                        8.4.0\n",
      "pip                           20.2.3\n",
      "platformdirs                  2.4.1\n",
      "pluggy                        0.13.1\n",
      "prometheus-client             0.14.1\n",
      "prompt-toolkit                3.0.27\n",
      "psutil                        5.8.0\n",
      "ptyprocess                    0.7.0\n",
      "pure-eval                     0.2.2\n",
      "py                            1.10.0\n",
      "pybind11                      2.6.2\n",
      "pycparser                     2.21\n",
      "pydot                         1.4.2\n",
      "Pygments                      2.11.2\n",
      "pyhull                        2015.2.1\n",
      "PyMySQL                       1.0.2\n",
      "pyparsing                     2.4.7\n",
      "pyrsistent                    0.18.1\n",
      "pytest                        6.2.5\n",
      "python-dateutil               2.8.1\n",
      "pytorch-sphinx-theme          0.0.19\n",
      "pytz                          2021.1\n",
      "PyWavelets                    1.3.0\n",
      "PyYAML                        6.0\n",
      "pyzmq                         22.3.0\n",
      "recommonmark                  0.7.1\n",
      "requests                      2.28.1\n",
      "ruamel.yaml                   0.17.21\n",
      "ruamel.yaml.clib              0.2.6\n",
      "scikit-image                  0.19.3\n",
      "scikit-learn                  1.0.2\n",
      "scipy                         1.6.2\n",
      "seaborn                       0.11.2\n",
      "Send2Trash                    1.8.0\n",
      "setuptools                    49.2.1\n",
      "setuptools-scm                6.0.1\n",
      "six                           1.15.0\n",
      "sklearn                       0.0\n",
      "smmap                         5.0.0\n",
      "snowballstemmer               2.2.0\n",
      "soupsieve                     2.3.2.post1\n",
      "Sphinx                        5.0.2\n",
      "sphinxcontrib-applehelp       1.0.2\n",
      "sphinxcontrib-devhelp         1.0.2\n",
      "sphinxcontrib-htmlhelp        2.0.0\n",
      "sphinxcontrib-jsmath          1.0.1\n",
      "sphinxcontrib-qthelp          1.0.3\n",
      "sphinxcontrib-serializinghtml 1.1.5\n",
      "stack-data                    0.1.4\n",
      "terminado                     0.13.3\n",
      "threadpoolctl                 3.1.0\n",
      "tifffile                      2022.5.4\n",
      "tinycss2                      1.1.1\n",
      "toml                          0.10.2\n",
      "tomli                         2.0.1\n",
      "toolz                         0.11.1\n",
      "torch                         1.10.1+cu111\n",
      "torchaudio                    0.10.1+cu111\n",
      "torchvision                   0.11.2+cu111\n",
      "tornado                       6.1\n",
      "tqdm                          4.64.0\n",
      "traitlets                     5.1.1\n",
      "typing-extensions             4.0.1\n",
      "urllib3                       1.26.9\n",
      "watchdog                      2.1.9\n",
      "wcwidth                       0.2.5\n",
      "webencodings                  0.5.1\n",
      "Werkzeug                      2.1.2\n",
      "wheel                         0.37.0\n",
      "widgetsnbextension            3.6.0\n",
      "xarray                        2022.3.0\n",
      "zipp                          3.4.1\n",
      "\u001b[33mWARNING: You are using pip version 20.2.3; however, version 22.2.2 is available.\n",
      "You should consider upgrading via the '/apps/daint/UES/jenkins/7.0.UP03/21.09/daint-gpu/software/jupyterlab/3.2.8-CrayGNU-21.09-batchspawner-cuda/cscs/bin/python -m pip install --upgrade pip' command.\u001b[0m\n"
     ]
    }
   ],
   "source": [
    "!pip list"
   ]
  },
  {
   "cell_type": "code",
   "execution_count": null,
   "id": "88ea800b-50c6-4275-b224-76c328cab9a3",
   "metadata": {},
   "outputs": [],
   "source": []
  }
 ],
 "metadata": {
  "kernelspec": {
   "display_name": "molanalysis",
   "language": "python",
   "name": "python3"
  },
  "language_info": {
   "codemirror_mode": {
    "name": "ipython",
    "version": 3
   },
   "file_extension": ".py",
   "mimetype": "text/x-python",
   "name": "python",
   "nbconvert_exporter": "python",
   "pygments_lexer": "ipython3",
   "version": "3.8.19"
  }
 },
 "nbformat": 4,
 "nbformat_minor": 5
}
